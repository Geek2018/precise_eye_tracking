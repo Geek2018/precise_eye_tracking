{
 "cells": [
  {
   "cell_type": "code",
   "execution_count": 5,
   "metadata": {},
   "outputs": [
    {
     "data": {
      "image/png": "[encoded data removed]",
      "text/plain": [
       "<Figure size 432x288 with 1 Axes>"
      ]
     },
     "metadata": {
      "needs_background": "light"
     },
     "output_type": "display_data"
    }
   ],
   "source": [
    "import pickle\n",
    "import matplotlib.pyplot as plt\n",
    "\n",
    "\n",
    "\n",
    "#Analyze the data using histgram\n",
    "def hist(pickle):\n",
    "    lis_x = []\n",
    "    lis_y = []\n",
    "    lis_r = []\n",
    "    for i in pickle:\n",
    "        item = i.items()\n",
    "        for j in item:\n",
    "            #j = (4, [19, 82, 20])\n",
    "            lis_x.append(j[1][0])\n",
    "            lis_y.append(j[1][1])\n",
    "            lis_r.append(j[1][2])\n",
    "\n",
    "    plt.hist(lis_r, bins = 500)\n",
    "\n",
    "    plt.show()\n",
    "\n",
    "\n",
    "\n",
    "f = open('data/dict.pickle', 'rb')    \n",
    "pickle =  pickle.load(f) \n",
    "hist(pickle) \n"
   ]
  },
  {
   "cell_type": "code",
   "execution_count": 7,
   "metadata": {},
   "outputs": [
    {
     "data": {
      "image/png": "[encoded data removed]",
      "text/plain": [
       "<Figure size 432x288 with 1 Axes>"
      ]
     },
     "metadata": {
      "needs_background": "light"
     },
     "output_type": "display_data"
    }
   ],
   "source": [
    "hist(pickle) \n"
   ]
  },
  {
   "cell_type": "code",
   "execution_count": null,
   "metadata": {},
   "outputs": [],
   "source": []
  }
 ],
 "metadata": {
  "kernelspec": {
   "display_name": "Python 3",
   "language": "python",
   "name": "python3"
  },
  "language_info": {
   "codemirror_mode": {
    "name": "ipython",
    "version": 3
   },
   "file_extension": ".py",
   "mimetype": "text/x-python",
   "name": "python",
   "nbconvert_exporter": "python",
   "pygments_lexer": "ipython3",
   "version": "3.7.0"
  }
 },
 "nbformat": 4,
 "nbformat_minor": 4
}
